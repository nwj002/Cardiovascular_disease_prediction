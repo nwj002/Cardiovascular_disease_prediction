{
 "cells": [
  {
   "cell_type": "code",
   "execution_count": 1,
   "metadata": {},
   "outputs": [],
   "source": [
    "# Importing necessary libraries\n",
    "import os\n",
    "import pandas as pd\n",
    "import numpy as np\n",
    "from sklearn.model_selection import train_test_split\n",
    "from sklearn.preprocessing import StandardScaler, OneHotEncoder\n",
    "from sklearn.compose import ColumnTransformer\n",
    "from sklearn.pipeline import Pipeline\n",
    "from imblearn.over_sampling import SMOTE\n",
    "import joblib\n",
    "import pickle"
   ]
  },
  {
   "cell_type": "code",
   "execution_count": 2,
   "metadata": {},
   "outputs": [],
   "source": [
    "# Paths\n",
    "processed_data_path = 'D:/healthcare_analytics_project/data/processed/framingham_preprocessed.csv'\n",
    "preprocessed_data_path = 'D:/healthcare_analytics_project/data/processed/'\n",
    "model_data_path = 'D:/healthcare_analytics_project/models/'"
   ]
  },
  {
   "cell_type": "code",
   "execution_count": 3,
   "metadata": {},
   "outputs": [],
   "source": [
    "# Create directories if they don't exist\n",
    "os.makedirs(preprocessed_data_path, exist_ok=True)\n",
    "os.makedirs(model_data_path, exist_ok=True)"
   ]
  },
  {
   "cell_type": "code",
   "execution_count": 4,
   "metadata": {},
   "outputs": [
    {
     "name": "stdout",
     "output_type": "stream",
     "text": [
      "Shape of the dataset: (3658, 17)\n",
      "Columns: ['male', 'age', 'education', 'currentSmoker', 'cigsPerDay', 'BPMeds', 'prevalentStroke', 'prevalentHyp', 'diabetes', 'totChol', 'sysBP', 'diaBP', 'BMI', 'heartRate', 'glucose', 'TenYearCHD', 'age_group']\n"
     ]
    }
   ],
   "source": [
    "# Load the processed dataset\n",
    "data = pd.read_csv(processed_data_path)\n",
    "\n",
    "# Display basic information\n",
    "print(f\"Shape of the dataset: {data.shape}\")\n",
    "print(f\"Columns: {data.columns.tolist()}\")"
   ]
  },
  {
   "cell_type": "code",
   "execution_count": 5,
   "metadata": {},
   "outputs": [],
   "source": [
    "# Features and target\n",
    "X = data.drop('TenYearCHD', axis=1)\n",
    "y = data['TenYearCHD']\n",
    "\n",
    "# Identify categorical and numerical columns\n",
    "categorical_features = ['education']\n",
    "numerical_features = X.select_dtypes(include=[np.number]).columns.tolist()\n",
    "\n",
    "# Remove categorical features from numerical list\n",
    "numerical_features = [col for col in numerical_features if col not in categorical_features]\n"
   ]
  },
  {
   "cell_type": "code",
   "execution_count": 6,
   "metadata": {},
   "outputs": [
    {
     "name": "stdout",
     "output_type": "stream",
     "text": [
      "Categorical features: ['education']\n",
      "Numerical features: ['male', 'age', 'currentSmoker', 'cigsPerDay', 'BPMeds', 'prevalentStroke', 'prevalentHyp', 'diabetes', 'totChol', 'sysBP', 'diaBP', 'BMI', 'heartRate', 'glucose']\n"
     ]
    }
   ],
   "source": [
    "# Display identified features\n",
    "print(f\"Categorical features: {categorical_features}\")\n",
    "print(f\"Numerical features: {numerical_features}\")\n"
   ]
  },
  {
   "cell_type": "code",
   "execution_count": 7,
   "metadata": {},
   "outputs": [],
   "source": [
    "# Handle class imbalance using SMOTE\n",
    "# Select only numeric features for SMOTE\n",
    "X_numeric = X[numerical_features]\n",
    "\n",
    "# Apply SMOTE\n",
    "smote = SMOTE(random_state=42)\n",
    "X_resampled_numeric, y_resampled = smote.fit_resample(X_numeric, y)\n",
    "\n",
    "# Add back categorical features after SMOTE\n",
    "X_resampled = pd.concat(\n",
    "    [pd.DataFrame(X_resampled_numeric, columns=numerical_features), \n",
    "     X.reset_index(drop=True).iloc[:len(y_resampled)][categorical_features]],\n",
    "    axis=1\n",
    ")\n"
   ]
  },
  {
   "cell_type": "code",
   "execution_count": 8,
   "metadata": {},
   "outputs": [],
   "source": [
    "# Train-test split\n",
    "X_train, X_test, y_train, y_test = train_test_split(X_resampled, y_resampled, test_size=0.2, random_state=42, stratify=y_resampled)\n",
    "\n",
    "# Preprocessing pipeline\n",
    "preprocessor = ColumnTransformer(\n",
    "    transformers=[\n",
    "        ('num', StandardScaler(), numerical_features),\n",
    "        ('cat', OneHotEncoder(drop='first'), categorical_features)\n",
    "    ]\n",
    ")"
   ]
  },
  {
   "cell_type": "code",
   "execution_count": 9,
   "metadata": {},
   "outputs": [
    {
     "name": "stdout",
     "output_type": "stream",
     "text": [
      "Preprocessor saved to D:/healthcare_analytics_project/models/preprocessor.pkl\n"
     ]
    }
   ],
   "source": [
    "# Fit and transform the training data\n",
    "X_train_preprocessed = preprocessor.fit_transform(X_train)\n",
    "X_test_preprocessed = preprocessor.transform(X_test)\n",
    "\n",
    "# Save the preprocessor for future use\n",
    "preprocessor_path = os.path.join(model_data_path, 'preprocessor.pkl')\n",
    "with open(preprocessor_path, 'wb') as f:\n",
    "    pickle.dump(preprocessor, f)\n",
    "print(f\"Preprocessor saved to {preprocessor_path}\")"
   ]
  },
  {
   "cell_type": "code",
   "execution_count": 10,
   "metadata": {},
   "outputs": [
    {
     "name": "stdout",
     "output_type": "stream",
     "text": [
      "Preprocessed training data saved to D:/healthcare_analytics_project/data/processed/train_data.npz\n",
      "Preprocessed testing data saved to D:/healthcare_analytics_project/data/processed/test_data.npz\n"
     ]
    }
   ],
   "source": [
    "# Save preprocessed data\n",
    "train_data_path = os.path.join(preprocessed_data_path, 'train_data.npz')\n",
    "test_data_path = os.path.join(preprocessed_data_path, 'test_data.npz')\n",
    "\n",
    "np.savez_compressed(train_data_path, X_train=X_train_preprocessed, y_train=y_train)\n",
    "np.savez_compressed(test_data_path, X_test=X_test_preprocessed, y_test=y_test)\n",
    "\n",
    "print(f\"Preprocessed training data saved to {train_data_path}\")\n",
    "print(f\"Preprocessed testing data saved to {test_data_path}\")"
   ]
  }
 ],
 "metadata": {
  "kernelspec": {
   "display_name": ".venv",
   "language": "python",
   "name": "python3"
  },
  "language_info": {
   "codemirror_mode": {
    "name": "ipython",
    "version": 3
   },
   "file_extension": ".py",
   "mimetype": "text/x-python",
   "name": "python",
   "nbconvert_exporter": "python",
   "pygments_lexer": "ipython3",
   "version": "3.13.1"
  }
 },
 "nbformat": 4,
 "nbformat_minor": 2
}
